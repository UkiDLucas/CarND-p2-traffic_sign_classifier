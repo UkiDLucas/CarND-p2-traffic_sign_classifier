{
 "cells": [
  {
   "cell_type": "code",
   "execution_count": 1,
   "metadata": {
    "collapsed": true
   },
   "outputs": [],
   "source": [
    "from urllib.request import urlretrieve\n",
    "from os.path import isfile\n",
    "from tqdm import tqdm\n",
    "# conda install -c conda-forge tqdm"
   ]
  },
  {
   "cell_type": "code",
   "execution_count": 4,
   "metadata": {
    "collapsed": true
   },
   "outputs": [],
   "source": [
    "# This is a wrapper class to show the progrees of the download.\n",
    "class DownloadProgress(tqdm):\n",
    "    last_block = 0\n",
    "\n",
    "    # This hook function that will be called: \n",
    "    # - once on establishment of the network connection and \n",
    "    # - once after each block read thereafter. \n",
    "    # The hook will receive three arguments: \n",
    "    # - a count of blocks transferred so far, \n",
    "    # - a block size in bytes, and \n",
    "    # - the total size of the file.\n",
    "    def hook(self, block_num=1, block_size=1, total_size=None):\n",
    "        self.total = total_size\n",
    "        self.update((block_num - self.last_block) * block_size)\n",
    "        self.last_block = block_num"
   ]
  },
  {
   "cell_type": "code",
   "execution_count": 8,
   "metadata": {
    "collapsed": false
   },
   "outputs": [
    {
     "name": "stdout",
     "output_type": "stream",
     "text": [
      "Training and Test data downloaded at ../DATA/german_traffic_signs/\n"
     ]
    }
   ],
   "source": [
    "# urllib.request.urlretrieve(url[, filename[, reporthook[, data]]])\n",
    "\n",
    "# I usually keep my DATA one folder below the git repo\n",
    "data_dir = \"../DATA/german_traffic_signs/\"\n",
    "\n",
    "file_name = 'train.p'\n",
    "if not isfile(data_dir + file_name):\n",
    "    with DownloadProgress(unit='B', unit_scale=True, miniters=1, desc='Train Dataset') as pbar:\n",
    "        urlretrieve(\n",
    "            'https://s3.amazonaws.com/udacity-sdc/datasets/german_traffic_sign_benchmark/train.p',\n",
    "            data_dir + file_name,\n",
    "            pbar.hook)\n",
    "\n",
    "        \n",
    "file_name = 'test.p'\n",
    "if not isfile(data_dir + file_name):\n",
    "    with DownloadProgress(unit='B', unit_scale=True, miniters=1, desc='Test Dataset') as pbar:\n",
    "        urlretrieve(\n",
    "            'https://s3.amazonaws.com/udacity-sdc/datasets/german_traffic_sign_benchmark/test.p',\n",
    "            data_dir + file_name,\n",
    "            pbar.hook)\n",
    "        \n",
    "        \n",
    "# Train Dataset: 120MB [01:20, 1.50MB/s]                           \n",
    "# Test Dataset: 38.8MB [00:28, 1.37MB/s]  \n",
    "\n",
    "print('Training and Test data downloaded at ' + data_dir)"
   ]
  },
  {
   "cell_type": "code",
   "execution_count": null,
   "metadata": {
    "collapsed": true
   },
   "outputs": [],
   "source": []
  }
 ],
 "metadata": {
  "anaconda-cloud": {},
  "kernelspec": {
   "display_name": "Python [conda root]",
   "language": "python",
   "name": "conda-root-py"
  },
  "language_info": {
   "codemirror_mode": {
    "name": "ipython",
    "version": 3
   },
   "file_extension": ".py",
   "mimetype": "text/x-python",
   "name": "python",
   "nbconvert_exporter": "python",
   "pygments_lexer": "ipython3",
   "version": "3.5.2"
  }
 },
 "nbformat": 4,
 "nbformat_minor": 1
}
